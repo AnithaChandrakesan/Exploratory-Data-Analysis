{
 "cells": [
  {
   "cell_type": "markdown",
   "metadata": {},
   "source": [
    "# Exploratory Data Analysis - Boarding and Accomodation Dataset"
   ]
  },
  {
   "cell_type": "markdown",
   "metadata": {},
   "source": [
    "####  - Anitha Chandrakesan"
   ]
  },
  {
   "cell_type": "markdown",
   "metadata": {},
   "source": [
    "## Table of Contents\n",
    "\n",
    "1. [Problem Statement](#section1)<br>\n",
    "2. [Data Loading and Description](#section2)\n",
    "3. [Understand and Preprocess Listing and Listing Brief data](#section3)\n",
    "4. [Understand and Preprocess Reviews and Reviews Brief data](#section4)\n",
    "5. [Understand and Preprocess Calendar data](#section5)\n",
    "6. [Understand and Preprocess Neighbourhoods data](#section6)\n",
    "7. [Insights](#section7)\n",
    "    - 7.1 [Analyse Correlation in the dataset](#section7.1)<br/> \n",
    "    - 7.2 [Distribution of Price for listings](#section7.2)<br/>\n",
    "    - 7.3 [Price vs Number of Bathrooms](#section7.3)<br/>\n",
    "    - 7.4 [Price vs Number of Bedrooms](#section7.4)<br/>\n",
    "    - 7.5 [Price vs Number of Beds](#section7.5)<br/>\n",
    "    - 7.6 [Price vs Number of person a listing can accomodate](#section7.6)<br/>\n",
    "    - 7.7 [Top 10 neighbourhood places that has good ratings](#section7.7)<br/>\n",
    "    - 7.8 [How does ratings influence price  ? ](#section7.8)<br/>\n",
    "    - 7.9 [Which City has more price  ? ](#section7.9)<br/>\n",
    "    - 7.10 [Super Host Vs Review Rating](#section7.10)<br/>\n",
    "    - 7.11 [Property Type vs Price](#section7.11)<br/>\n",
    "    - 7.12 [Property Type vs Availability in 30 days](#section7.12)<br/>\n",
    "    - 7.13 [Super Host Response Time](#section7.13)<br/>\n",
    "    - 7.14 [Review Comments Analysis using word cloud](#section7.14)<br/>\n",
    "    - 7.15 [Top 10 Reviewer](#section7.15)<br/>\n",
    "    \n",
    "    \n",
    "    \n",
    "    \n",
    "  \n",
    "    \n",
    " \n",
    "    \n",
    "    \n",
    " \n",
    "    \n",
    "    \n",
    "    \n",
    "    \n",
    "    \n",
    "    \n"
   ]
  },
  {
   "cell_type": "markdown",
   "metadata": {},
   "source": [
    "## 1. Problem Statement  <a class=\"anchor\" id=\"section1\">"
   ]
  },
  {
   "cell_type": "markdown",
   "metadata": {},
   "source": [
    "To exploring the boarding and accommodation trends in the city of San Diego,\n",
    "California, United States and identify the key drivers/metrics."
   ]
  },
  {
   "cell_type": "markdown",
   "metadata": {},
   "source": [
    "### Import Packages"
   ]
  },
  {
   "cell_type": "code",
   "execution_count": 172,
   "metadata": {},
   "outputs": [],
   "source": [
    "import numpy as np                  # Implemennts milti-dimensional array and matrices\n",
    "import pandas as pd                 # For data manipulation and analysis\n",
    "import pandas_profiling\n",
    "import matplotlib.pyplot as plt     # Plotting library for Python programming language and it's numerical mathematics extension NumPy\n",
    "import seaborn as sns               # Provides a high level interface for drawing attractive and informative statistical graphics\n",
    "%matplotlib inline\n",
    "sns.set()\n",
    "\n",
    "from subprocess import check_output\n",
    "\n",
    "import warnings                                            # Ignore warning related to pandas_profiling\n",
    "warnings.filterwarnings('ignore') "
   ]
  },
  {
   "cell_type": "markdown",
   "metadata": {},
   "source": [
    "## 2. Data Loading and Description <a class=\"anchor\" id=\"section2\">"
   ]
  },
  {
   "cell_type": "code",
   "execution_count": 173,
   "metadata": {},
   "outputs": [
    {
     "data": {
      "text/html": [
       "<div>\n",
       "<style scoped>\n",
       "    .dataframe tbody tr th:only-of-type {\n",
       "        vertical-align: middle;\n",
       "    }\n",
       "\n",
       "    .dataframe tbody tr th {\n",
       "        vertical-align: top;\n",
       "    }\n",
       "\n",
       "    .dataframe thead th {\n",
       "        text-align: right;\n",
       "    }\n",
       "</style>\n",
       "<table border=\"1\" class=\"dataframe\">\n",
       "  <thead>\n",
       "    <tr style=\"text-align: right;\">\n",
       "      <th></th>\n",
       "      <th>id</th>\n",
       "      <th>listing_url</th>\n",
       "      <th>scrape_id</th>\n",
       "      <th>last_scraped</th>\n",
       "      <th>name</th>\n",
       "      <th>summary</th>\n",
       "      <th>space</th>\n",
       "      <th>description</th>\n",
       "      <th>experiences_offered</th>\n",
       "      <th>neighborhood_overview</th>\n",
       "      <th>...</th>\n",
       "      <th>requires_license</th>\n",
       "      <th>license</th>\n",
       "      <th>jurisdiction_names</th>\n",
       "      <th>instant_bookable</th>\n",
       "      <th>is_business_travel_ready</th>\n",
       "      <th>cancellation_policy</th>\n",
       "      <th>require_guest_profile_picture</th>\n",
       "      <th>require_guest_phone_verification</th>\n",
       "      <th>calculated_host_listings_count</th>\n",
       "      <th>reviews_per_month</th>\n",
       "    </tr>\n",
       "  </thead>\n",
       "  <tbody>\n",
       "    <tr>\n",
       "      <th>0</th>\n",
       "      <td>6</td>\n",
       "      <td>https://www.airbnb.com/rooms/6</td>\n",
       "      <td>20181115100559</td>\n",
       "      <td>2018-11-15</td>\n",
       "      <td>Large Craftsmen w/ yard ~ Perfect for families</td>\n",
       "      <td>Our Beautiful Craftsmen house has all the mode...</td>\n",
       "      <td>We are located in the heart of North Park, the...</td>\n",
       "      <td>Our Beautiful Craftsmen house has all the mode...</td>\n",
       "      <td>none</td>\n",
       "      <td>We have the best Neighborhood in San Diego, in...</td>\n",
       "      <td>...</td>\n",
       "      <td>f</td>\n",
       "      <td>NaN</td>\n",
       "      <td>{\"SAN DIEGO\",\" SAN DIEGO TOURISM MARKETING DIS...</td>\n",
       "      <td>t</td>\n",
       "      <td>f</td>\n",
       "      <td>strict_14_with_grace_period</td>\n",
       "      <td>f</td>\n",
       "      <td>f</td>\n",
       "      <td>1</td>\n",
       "      <td>1.18</td>\n",
       "    </tr>\n",
       "    <tr>\n",
       "      <th>1</th>\n",
       "      <td>5570</td>\n",
       "      <td>https://www.airbnb.com/rooms/5570</td>\n",
       "      <td>20181115100559</td>\n",
       "      <td>2018-11-15</td>\n",
       "      <td>Ocean front condo on the sand</td>\n",
       "      <td>Missionbeachretreat.   Great Ocean Front Condo...</td>\n",
       "      <td>This charming two bedroom beachfront condomini...</td>\n",
       "      <td>Missionbeachretreat.   Great Ocean Front Condo...</td>\n",
       "      <td>none</td>\n",
       "      <td>While some may compare San Diego’s Mission Bea...</td>\n",
       "      <td>...</td>\n",
       "      <td>f</td>\n",
       "      <td>NaN</td>\n",
       "      <td>{\"SAN DIEGO\",\" SAN DIEGO TOURISM MARKETING DIS...</td>\n",
       "      <td>f</td>\n",
       "      <td>f</td>\n",
       "      <td>strict_14_with_grace_period</td>\n",
       "      <td>f</td>\n",
       "      <td>f</td>\n",
       "      <td>2</td>\n",
       "      <td>NaN</td>\n",
       "    </tr>\n",
       "  </tbody>\n",
       "</table>\n",
       "<p>2 rows × 96 columns</p>\n",
       "</div>"
      ],
      "text/plain": [
       "     id                        listing_url       scrape_id last_scraped  \\\n",
       "0     6     https://www.airbnb.com/rooms/6  20181115100559   2018-11-15   \n",
       "1  5570  https://www.airbnb.com/rooms/5570  20181115100559   2018-11-15   \n",
       "\n",
       "                                             name  \\\n",
       "0  Large Craftsmen w/ yard ~ Perfect for families   \n",
       "1                   Ocean front condo on the sand   \n",
       "\n",
       "                                             summary  \\\n",
       "0  Our Beautiful Craftsmen house has all the mode...   \n",
       "1  Missionbeachretreat.   Great Ocean Front Condo...   \n",
       "\n",
       "                                               space  \\\n",
       "0  We are located in the heart of North Park, the...   \n",
       "1  This charming two bedroom beachfront condomini...   \n",
       "\n",
       "                                         description experiences_offered  \\\n",
       "0  Our Beautiful Craftsmen house has all the mode...                none   \n",
       "1  Missionbeachretreat.   Great Ocean Front Condo...                none   \n",
       "\n",
       "                               neighborhood_overview        ...          \\\n",
       "0  We have the best Neighborhood in San Diego, in...        ...           \n",
       "1  While some may compare San Diego’s Mission Bea...        ...           \n",
       "\n",
       "  requires_license license                                 jurisdiction_names  \\\n",
       "0                f     NaN  {\"SAN DIEGO\",\" SAN DIEGO TOURISM MARKETING DIS...   \n",
       "1                f     NaN  {\"SAN DIEGO\",\" SAN DIEGO TOURISM MARKETING DIS...   \n",
       "\n",
       "  instant_bookable is_business_travel_ready          cancellation_policy  \\\n",
       "0                t                        f  strict_14_with_grace_period   \n",
       "1                f                        f  strict_14_with_grace_period   \n",
       "\n",
       "   require_guest_profile_picture require_guest_phone_verification  \\\n",
       "0                              f                                f   \n",
       "1                              f                                f   \n",
       "\n",
       "   calculated_host_listings_count  reviews_per_month  \n",
       "0                               1               1.18  \n",
       "1                               2                NaN  \n",
       "\n",
       "[2 rows x 96 columns]"
      ]
     },
     "execution_count": 173,
     "metadata": {},
     "output_type": "execute_result"
    }
   ],
   "source": [
    "listings = pd.read_csv('C:\\\\Users\\\\admin\\\\Desktop\\\\CM Data Scientist Hiring\\\\listings.csv')\n",
    "listings.head(2)"
   ]
  },
  {
   "cell_type": "code",
   "execution_count": 174,
   "metadata": {},
   "outputs": [
    {
     "data": {
      "text/html": [
       "<div>\n",
       "<style scoped>\n",
       "    .dataframe tbody tr th:only-of-type {\n",
       "        vertical-align: middle;\n",
       "    }\n",
       "\n",
       "    .dataframe tbody tr th {\n",
       "        vertical-align: top;\n",
       "    }\n",
       "\n",
       "    .dataframe thead th {\n",
       "        text-align: right;\n",
       "    }\n",
       "</style>\n",
       "<table border=\"1\" class=\"dataframe\">\n",
       "  <thead>\n",
       "    <tr style=\"text-align: right;\">\n",
       "      <th></th>\n",
       "      <th>id</th>\n",
       "      <th>name</th>\n",
       "      <th>host_id</th>\n",
       "      <th>host_name</th>\n",
       "      <th>neighbourhood_group</th>\n",
       "      <th>neighbourhood</th>\n",
       "      <th>latitude</th>\n",
       "      <th>longitude</th>\n",
       "      <th>room_type</th>\n",
       "      <th>price</th>\n",
       "      <th>minimum_nights</th>\n",
       "      <th>number_of_reviews</th>\n",
       "      <th>last_review</th>\n",
       "      <th>reviews_per_month</th>\n",
       "      <th>calculated_host_listings_count</th>\n",
       "      <th>availability_365</th>\n",
       "    </tr>\n",
       "  </thead>\n",
       "  <tbody>\n",
       "    <tr>\n",
       "      <th>0</th>\n",
       "      <td>6</td>\n",
       "      <td>Large Craftsmen w/ yard ~ Perfect for families</td>\n",
       "      <td>29</td>\n",
       "      <td>Sara</td>\n",
       "      <td>NaN</td>\n",
       "      <td>North Hills</td>\n",
       "      <td>32.753993</td>\n",
       "      <td>-117.129705</td>\n",
       "      <td>Entire home/apt</td>\n",
       "      <td>295</td>\n",
       "      <td>2</td>\n",
       "      <td>149</td>\n",
       "      <td>2018-10-07</td>\n",
       "      <td>1.18</td>\n",
       "      <td>1</td>\n",
       "      <td>20</td>\n",
       "    </tr>\n",
       "    <tr>\n",
       "      <th>1</th>\n",
       "      <td>5570</td>\n",
       "      <td>Ocean front condo on the sand</td>\n",
       "      <td>8435</td>\n",
       "      <td>Jef Karchin'S MISSIONBEACHRETREAT</td>\n",
       "      <td>NaN</td>\n",
       "      <td>Mission Bay</td>\n",
       "      <td>32.784304</td>\n",
       "      <td>-117.252578</td>\n",
       "      <td>Entire home/apt</td>\n",
       "      <td>2050</td>\n",
       "      <td>3</td>\n",
       "      <td>0</td>\n",
       "      <td>NaN</td>\n",
       "      <td>NaN</td>\n",
       "      <td>2</td>\n",
       "      <td>328</td>\n",
       "    </tr>\n",
       "  </tbody>\n",
       "</table>\n",
       "</div>"
      ],
      "text/plain": [
       "     id                                            name  host_id  \\\n",
       "0     6  Large Craftsmen w/ yard ~ Perfect for families       29   \n",
       "1  5570                   Ocean front condo on the sand     8435   \n",
       "\n",
       "                           host_name  neighbourhood_group neighbourhood  \\\n",
       "0                               Sara                  NaN   North Hills   \n",
       "1  Jef Karchin'S MISSIONBEACHRETREAT                  NaN   Mission Bay   \n",
       "\n",
       "    latitude   longitude        room_type  price  minimum_nights  \\\n",
       "0  32.753993 -117.129705  Entire home/apt    295               2   \n",
       "1  32.784304 -117.252578  Entire home/apt   2050               3   \n",
       "\n",
       "   number_of_reviews last_review  reviews_per_month  \\\n",
       "0                149  2018-10-07               1.18   \n",
       "1                  0         NaN                NaN   \n",
       "\n",
       "   calculated_host_listings_count  availability_365  \n",
       "0                               1                20  \n",
       "1                               2               328  "
      ]
     },
     "execution_count": 174,
     "metadata": {},
     "output_type": "execute_result"
    }
   ],
   "source": [
    "listings_brief = pd.read_csv('C:\\\\Users\\\\admin\\\\Desktop\\\\CM Data Scientist Hiring\\\\listings_brief.csv')\n",
    "listings_brief.head(2)"
   ]
  },
  {
   "cell_type": "code",
   "execution_count": 175,
   "metadata": {},
   "outputs": [
    {
     "data": {
      "text/html": [
       "<div>\n",
       "<style scoped>\n",
       "    .dataframe tbody tr th:only-of-type {\n",
       "        vertical-align: middle;\n",
       "    }\n",
       "\n",
       "    .dataframe tbody tr th {\n",
       "        vertical-align: top;\n",
       "    }\n",
       "\n",
       "    .dataframe thead th {\n",
       "        text-align: right;\n",
       "    }\n",
       "</style>\n",
       "<table border=\"1\" class=\"dataframe\">\n",
       "  <thead>\n",
       "    <tr style=\"text-align: right;\">\n",
       "      <th></th>\n",
       "      <th>listing_id</th>\n",
       "      <th>id</th>\n",
       "      <th>date</th>\n",
       "      <th>reviewer_id</th>\n",
       "      <th>reviewer_name</th>\n",
       "      <th>comments</th>\n",
       "    </tr>\n",
       "  </thead>\n",
       "  <tbody>\n",
       "    <tr>\n",
       "      <th>0</th>\n",
       "      <td>6</td>\n",
       "      <td>8</td>\n",
       "      <td>2008-06-22</td>\n",
       "      <td>415</td>\n",
       "      <td>Terrence</td>\n",
       "      <td>Sara is an awesome hostess.  She was very cons...</td>\n",
       "    </tr>\n",
       "    <tr>\n",
       "      <th>1</th>\n",
       "      <td>6</td>\n",
       "      <td>4383</td>\n",
       "      <td>2009-06-22</td>\n",
       "      <td>3762</td>\n",
       "      <td>Christine</td>\n",
       "      <td>My stay at “Craftsmen” was wonderful!  Sara wa...</td>\n",
       "    </tr>\n",
       "  </tbody>\n",
       "</table>\n",
       "</div>"
      ],
      "text/plain": [
       "   listing_id    id        date  reviewer_id reviewer_name  \\\n",
       "0           6     8  2008-06-22          415      Terrence   \n",
       "1           6  4383  2009-06-22         3762     Christine   \n",
       "\n",
       "                                            comments  \n",
       "0  Sara is an awesome hostess.  She was very cons...  \n",
       "1  My stay at “Craftsmen” was wonderful!  Sara wa...  "
      ]
     },
     "execution_count": 175,
     "metadata": {},
     "output_type": "execute_result"
    }
   ],
   "source": [
    "reviews = pd.read_csv('C:\\\\Users\\\\admin\\\\Desktop\\\\CM Data Scientist Hiring\\\\reviews.csv')\n",
    "reviews.head(2)"
   ]
  },
  {
   "cell_type": "code",
   "execution_count": 176,
   "metadata": {},
   "outputs": [
    {
     "data": {
      "text/html": [
       "<div>\n",
       "<style scoped>\n",
       "    .dataframe tbody tr th:only-of-type {\n",
       "        vertical-align: middle;\n",
       "    }\n",
       "\n",
       "    .dataframe tbody tr th {\n",
       "        vertical-align: top;\n",
       "    }\n",
       "\n",
       "    .dataframe thead th {\n",
       "        text-align: right;\n",
       "    }\n",
       "</style>\n",
       "<table border=\"1\" class=\"dataframe\">\n",
       "  <thead>\n",
       "    <tr style=\"text-align: right;\">\n",
       "      <th></th>\n",
       "      <th>listing_id</th>\n",
       "      <th>date</th>\n",
       "    </tr>\n",
       "  </thead>\n",
       "  <tbody>\n",
       "    <tr>\n",
       "      <th>0</th>\n",
       "      <td>6</td>\n",
       "      <td>2008-06-22</td>\n",
       "    </tr>\n",
       "    <tr>\n",
       "      <th>1</th>\n",
       "      <td>6</td>\n",
       "      <td>2009-06-22</td>\n",
       "    </tr>\n",
       "  </tbody>\n",
       "</table>\n",
       "</div>"
      ],
      "text/plain": [
       "   listing_id        date\n",
       "0           6  2008-06-22\n",
       "1           6  2009-06-22"
      ]
     },
     "execution_count": 176,
     "metadata": {},
     "output_type": "execute_result"
    }
   ],
   "source": [
    "reviews_brief = pd.read_csv('C:\\\\Users\\\\admin\\\\Desktop\\\\CM Data Scientist Hiring\\\\reviews_brief.csv')\n",
    "reviews_brief.head(2)"
   ]
  },
  {
   "cell_type": "code",
   "execution_count": 177,
   "metadata": {},
   "outputs": [
    {
     "data": {
      "text/html": [
       "<div>\n",
       "<style scoped>\n",
       "    .dataframe tbody tr th:only-of-type {\n",
       "        vertical-align: middle;\n",
       "    }\n",
       "\n",
       "    .dataframe tbody tr th {\n",
       "        vertical-align: top;\n",
       "    }\n",
       "\n",
       "    .dataframe thead th {\n",
       "        text-align: right;\n",
       "    }\n",
       "</style>\n",
       "<table border=\"1\" class=\"dataframe\">\n",
       "  <thead>\n",
       "    <tr style=\"text-align: right;\">\n",
       "      <th></th>\n",
       "      <th>neighbourhood_group</th>\n",
       "      <th>neighbourhood</th>\n",
       "    </tr>\n",
       "  </thead>\n",
       "  <tbody>\n",
       "    <tr>\n",
       "      <th>0</th>\n",
       "      <td>NaN</td>\n",
       "      <td>Allied Gardens</td>\n",
       "    </tr>\n",
       "    <tr>\n",
       "      <th>1</th>\n",
       "      <td>NaN</td>\n",
       "      <td>Alta Vista</td>\n",
       "    </tr>\n",
       "  </tbody>\n",
       "</table>\n",
       "</div>"
      ],
      "text/plain": [
       "   neighbourhood_group   neighbourhood\n",
       "0                  NaN  Allied Gardens\n",
       "1                  NaN      Alta Vista"
      ]
     },
     "execution_count": 177,
     "metadata": {},
     "output_type": "execute_result"
    }
   ],
   "source": [
    "neighbourhoods = pd.read_csv('C:\\\\Users\\\\admin\\\\Desktop\\\\CM Data Scientist Hiring\\\\neighbourhoods.csv')\n",
    "neighbourhoods.head(2)"
   ]
  },
  {
   "cell_type": "code",
   "execution_count": 178,
   "metadata": {},
   "outputs": [
    {
     "data": {
      "text/html": [
       "<div>\n",
       "<style scoped>\n",
       "    .dataframe tbody tr th:only-of-type {\n",
       "        vertical-align: middle;\n",
       "    }\n",
       "\n",
       "    .dataframe tbody tr th {\n",
       "        vertical-align: top;\n",
       "    }\n",
       "\n",
       "    .dataframe thead th {\n",
       "        text-align: right;\n",
       "    }\n",
       "</style>\n",
       "<table border=\"1\" class=\"dataframe\">\n",
       "  <thead>\n",
       "    <tr style=\"text-align: right;\">\n",
       "      <th></th>\n",
       "      <th>listing_id</th>\n",
       "      <th>date</th>\n",
       "      <th>available</th>\n",
       "      <th>price</th>\n",
       "    </tr>\n",
       "  </thead>\n",
       "  <tbody>\n",
       "    <tr>\n",
       "      <th>0</th>\n",
       "      <td>635756</td>\n",
       "      <td>2019-11-14</td>\n",
       "      <td>t</td>\n",
       "      <td>$67.00</td>\n",
       "    </tr>\n",
       "    <tr>\n",
       "      <th>1</th>\n",
       "      <td>292285</td>\n",
       "      <td>2019-11-14</td>\n",
       "      <td>f</td>\n",
       "      <td>NaN</td>\n",
       "    </tr>\n",
       "  </tbody>\n",
       "</table>\n",
       "</div>"
      ],
      "text/plain": [
       "   listing_id        date available   price\n",
       "0      635756  2019-11-14         t  $67.00\n",
       "1      292285  2019-11-14         f     NaN"
      ]
     },
     "execution_count": 178,
     "metadata": {},
     "output_type": "execute_result"
    }
   ],
   "source": [
    "calendar = pd.read_csv('C:\\\\Users\\\\admin\\\\Desktop\\\\CM Data Scientist Hiring\\\\calendar.csv')\n",
    "calendar.head(2)"
   ]
  },
  {
   "cell_type": "markdown",
   "metadata": {},
   "source": [
    "##### Number of records in each dataset"
   ]
  },
  {
   "cell_type": "code",
   "execution_count": 179,
   "metadata": {},
   "outputs": [
    {
     "name": "stdout",
     "output_type": "stream",
     "text": [
      "listings  (11922, 96)\n",
      "listings_brief  (11922, 16)\n",
      "reviews  (344404, 6)\n",
      "reviews_brief  (344404, 2)\n",
      "neighbourhoods  (108, 2)\n",
      "calendar  (4351530, 4)\n"
     ]
    }
   ],
   "source": [
    "print(\"listings \",listings.shape)\n",
    "print(\"listings_brief \",listings_brief.shape)\n",
    "print(\"reviews \",reviews.shape)\n",
    "print(\"reviews_brief \",reviews_brief.shape)\n",
    "print(\"neighbourhoods \",neighbourhoods.shape)\n",
    "print(\"calendar \",calendar.shape)"
   ]
  },
  {
   "cell_type": "markdown",
   "metadata": {},
   "source": [
    "## 3. Understand and Preprocess Listing and Listing Brief data <a class=\"anchor\" id=\"section3\">"
   ]
  },
  {
   "cell_type": "markdown",
   "metadata": {},
   "source": [
    "We will try to get Detailed information about each column by profiling"
   ]
  },
  {
   "cell_type": "code",
   "execution_count": 180,
   "metadata": {},
   "outputs": [],
   "source": [
    "profile = pandas_profiling.ProfileReport(listings)\n",
    "profile.to_file(outputfile=\"listings_preprocessing.html\")"
   ]
  },
  {
   "cell_type": "markdown",
   "metadata": {},
   "source": [
    "__Information gathered from Profile report__\n",
    "\n",
    "Number of variables = 96 <br>\n",
    "Number of observations\t= 11922 <br>\n",
    "Numeric =\t27 <br>\n",
    "Categorical = 55 <br>\n",
    "Total Missing (%)= 15.6% <br>\n",
    "\n",
    "experiences_offered has constant value none, can be ignored <br>\n",
    "has_availability has constant value t, can be ignored<br>\n",
    "host_acceptance_rate has constant value, can be ignored<br>\n",
    "host_total_listings_count is highly correlated with host_listings_count<br>\n",
    "is_business_travel_ready has constant value f, can be ignored <br>\n",
    "medium_url has constant value, can be ignored<br>\n",
    "neighbourhood_group_cleansed has 100.0% missing values<br>\n",
    "requires_license has constant value f, can be ignored<br>\n",
    "scrape_id has constant value, can be ignored<br>\n",
    "thumbnail_url has constant value, can be ignored<br>\n",
    "xl_picture_url has constant value, can be ignored<br>"
   ]
  },
  {
   "cell_type": "code",
   "execution_count": 181,
   "metadata": {},
   "outputs": [],
   "source": [
    "listings.drop(columns=['experiences_offered','has_availability','host_acceptance_rate','host_total_listings_count','is_business_travel_ready','medium_url',\"neighbourhood_group_cleansed\",\"requires_license\",\"scrape_id\",\"thumbnail_url\",\"xl_picture_url\"],inplace= True)"
   ]
  },
  {
   "cell_type": "code",
   "execution_count": 182,
   "metadata": {},
   "outputs": [
    {
     "data": {
      "text/html": [
       "<div>\n",
       "<style scoped>\n",
       "    .dataframe tbody tr th:only-of-type {\n",
       "        vertical-align: middle;\n",
       "    }\n",
       "\n",
       "    .dataframe tbody tr th {\n",
       "        vertical-align: top;\n",
       "    }\n",
       "\n",
       "    .dataframe thead th {\n",
       "        text-align: right;\n",
       "    }\n",
       "</style>\n",
       "<table border=\"1\" class=\"dataframe\">\n",
       "  <thead>\n",
       "    <tr style=\"text-align: right;\">\n",
       "      <th></th>\n",
       "      <th>id</th>\n",
       "      <th>host_id</th>\n",
       "      <th>host_listings_count</th>\n",
       "      <th>zipcode</th>\n",
       "      <th>latitude</th>\n",
       "      <th>longitude</th>\n",
       "      <th>accommodates</th>\n",
       "      <th>bathrooms</th>\n",
       "      <th>bedrooms</th>\n",
       "      <th>beds</th>\n",
       "      <th>...</th>\n",
       "      <th>review_scores_rating</th>\n",
       "      <th>review_scores_accuracy</th>\n",
       "      <th>review_scores_cleanliness</th>\n",
       "      <th>review_scores_checkin</th>\n",
       "      <th>review_scores_communication</th>\n",
       "      <th>review_scores_location</th>\n",
       "      <th>review_scores_value</th>\n",
       "      <th>license</th>\n",
       "      <th>calculated_host_listings_count</th>\n",
       "      <th>reviews_per_month</th>\n",
       "    </tr>\n",
       "  </thead>\n",
       "  <tbody>\n",
       "    <tr>\n",
       "      <th>count</th>\n",
       "      <td>1.192200e+04</td>\n",
       "      <td>1.192200e+04</td>\n",
       "      <td>11916.000000</td>\n",
       "      <td>11755.000000</td>\n",
       "      <td>11922.000000</td>\n",
       "      <td>11922.000000</td>\n",
       "      <td>11922.000000</td>\n",
       "      <td>11918.000000</td>\n",
       "      <td>11917.000000</td>\n",
       "      <td>11914.000000</td>\n",
       "      <td>...</td>\n",
       "      <td>9629.000000</td>\n",
       "      <td>9623.000000</td>\n",
       "      <td>9627.000000</td>\n",
       "      <td>9612.000000</td>\n",
       "      <td>9621.000000</td>\n",
       "      <td>9609.000000</td>\n",
       "      <td>9607.000000</td>\n",
       "      <td>4.800000e+01</td>\n",
       "      <td>11922.00000</td>\n",
       "      <td>9759.000000</td>\n",
       "    </tr>\n",
       "    <tr>\n",
       "      <th>mean</th>\n",
       "      <td>1.728569e+07</td>\n",
       "      <td>6.085778e+07</td>\n",
       "      <td>40.532561</td>\n",
       "      <td>92055.856572</td>\n",
       "      <td>32.770292</td>\n",
       "      <td>-117.181854</td>\n",
       "      <td>4.297182</td>\n",
       "      <td>1.480156</td>\n",
       "      <td>1.598641</td>\n",
       "      <td>2.309048</td>\n",
       "      <td>...</td>\n",
       "      <td>95.263994</td>\n",
       "      <td>9.706329</td>\n",
       "      <td>9.589903</td>\n",
       "      <td>9.833437</td>\n",
       "      <td>9.820809</td>\n",
       "      <td>9.751067</td>\n",
       "      <td>9.519933</td>\n",
       "      <td>9.749303e+07</td>\n",
       "      <td>10.32612</td>\n",
       "      <td>1.935757</td>\n",
       "    </tr>\n",
       "    <tr>\n",
       "      <th>std</th>\n",
       "      <td>8.205400e+06</td>\n",
       "      <td>5.850494e+07</td>\n",
       "      <td>188.505044</td>\n",
       "      <td>1743.770386</td>\n",
       "      <td>0.065639</td>\n",
       "      <td>0.064335</td>\n",
       "      <td>2.906190</td>\n",
       "      <td>0.880883</td>\n",
       "      <td>1.190178</td>\n",
       "      <td>1.831207</td>\n",
       "      <td>...</td>\n",
       "      <td>6.874241</td>\n",
       "      <td>0.696525</td>\n",
       "      <td>0.794416</td>\n",
       "      <td>0.577590</td>\n",
       "      <td>0.593369</td>\n",
       "      <td>0.579499</td>\n",
       "      <td>0.791108</td>\n",
       "      <td>3.547929e+08</td>\n",
       "      <td>26.20795</td>\n",
       "      <td>2.056274</td>\n",
       "    </tr>\n",
       "    <tr>\n",
       "      <th>min</th>\n",
       "      <td>6.000000e+00</td>\n",
       "      <td>2.900000e+01</td>\n",
       "      <td>0.000000</td>\n",
       "      <td>12345.000000</td>\n",
       "      <td>32.532614</td>\n",
       "      <td>-117.281401</td>\n",
       "      <td>1.000000</td>\n",
       "      <td>0.000000</td>\n",
       "      <td>0.000000</td>\n",
       "      <td>0.000000</td>\n",
       "      <td>...</td>\n",
       "      <td>20.000000</td>\n",
       "      <td>2.000000</td>\n",
       "      <td>2.000000</td>\n",
       "      <td>2.000000</td>\n",
       "      <td>2.000000</td>\n",
       "      <td>2.000000</td>\n",
       "      <td>2.000000</td>\n",
       "      <td>5.056300e+05</td>\n",
       "      <td>1.00000</td>\n",
       "      <td>0.010000</td>\n",
       "    </tr>\n",
       "    <tr>\n",
       "      <th>25%</th>\n",
       "      <td>1.159462e+07</td>\n",
       "      <td>1.224305e+07</td>\n",
       "      <td>1.000000</td>\n",
       "      <td>92101.000000</td>\n",
       "      <td>32.726506</td>\n",
       "      <td>-117.245726</td>\n",
       "      <td>2.000000</td>\n",
       "      <td>1.000000</td>\n",
       "      <td>1.000000</td>\n",
       "      <td>1.000000</td>\n",
       "      <td>...</td>\n",
       "      <td>93.000000</td>\n",
       "      <td>10.000000</td>\n",
       "      <td>9.000000</td>\n",
       "      <td>10.000000</td>\n",
       "      <td>10.000000</td>\n",
       "      <td>10.000000</td>\n",
       "      <td>9.000000</td>\n",
       "      <td>6.069060e+05</td>\n",
       "      <td>1.00000</td>\n",
       "      <td>0.360000</td>\n",
       "    </tr>\n",
       "    <tr>\n",
       "      <th>50%</th>\n",
       "      <td>1.859936e+07</td>\n",
       "      <td>3.869078e+07</td>\n",
       "      <td>2.000000</td>\n",
       "      <td>92107.000000</td>\n",
       "      <td>32.759515</td>\n",
       "      <td>-117.168460</td>\n",
       "      <td>4.000000</td>\n",
       "      <td>1.000000</td>\n",
       "      <td>1.000000</td>\n",
       "      <td>2.000000</td>\n",
       "      <td>...</td>\n",
       "      <td>97.000000</td>\n",
       "      <td>10.000000</td>\n",
       "      <td>10.000000</td>\n",
       "      <td>10.000000</td>\n",
       "      <td>10.000000</td>\n",
       "      <td>10.000000</td>\n",
       "      <td>10.000000</td>\n",
       "      <td>6.239040e+05</td>\n",
       "      <td>2.00000</td>\n",
       "      <td>1.140000</td>\n",
       "    </tr>\n",
       "    <tr>\n",
       "      <th>75%</th>\n",
       "      <td>2.403747e+07</td>\n",
       "      <td>9.505083e+07</td>\n",
       "      <td>7.000000</td>\n",
       "      <td>92110.000000</td>\n",
       "      <td>32.799578</td>\n",
       "      <td>-117.141241</td>\n",
       "      <td>6.000000</td>\n",
       "      <td>2.000000</td>\n",
       "      <td>2.000000</td>\n",
       "      <td>3.000000</td>\n",
       "      <td>...</td>\n",
       "      <td>100.000000</td>\n",
       "      <td>10.000000</td>\n",
       "      <td>10.000000</td>\n",
       "      <td>10.000000</td>\n",
       "      <td>10.000000</td>\n",
       "      <td>10.000000</td>\n",
       "      <td>10.000000</td>\n",
       "      <td>6.268865e+05</td>\n",
       "      <td>5.00000</td>\n",
       "      <td>2.950000</td>\n",
       "    </tr>\n",
       "    <tr>\n",
       "      <th>max</th>\n",
       "      <td>3.004997e+07</td>\n",
       "      <td>2.251816e+08</td>\n",
       "      <td>2488.000000</td>\n",
       "      <td>92663.000000</td>\n",
       "      <td>33.086065</td>\n",
       "      <td>-116.933520</td>\n",
       "      <td>40.000000</td>\n",
       "      <td>27.500000</td>\n",
       "      <td>25.000000</td>\n",
       "      <td>23.000000</td>\n",
       "      <td>...</td>\n",
       "      <td>100.000000</td>\n",
       "      <td>10.000000</td>\n",
       "      <td>10.000000</td>\n",
       "      <td>10.000000</td>\n",
       "      <td>10.000000</td>\n",
       "      <td>10.000000</td>\n",
       "      <td>10.000000</td>\n",
       "      <td>2.011643e+09</td>\n",
       "      <td>161.00000</td>\n",
       "      <td>18.950000</td>\n",
       "    </tr>\n",
       "  </tbody>\n",
       "</table>\n",
       "<p>8 rows × 29 columns</p>\n",
       "</div>"
      ],
      "text/plain": [
       "                 id       host_id  host_listings_count       zipcode  \\\n",
       "count  1.192200e+04  1.192200e+04         11916.000000  11755.000000   \n",
       "mean   1.728569e+07  6.085778e+07            40.532561  92055.856572   \n",
       "std    8.205400e+06  5.850494e+07           188.505044   1743.770386   \n",
       "min    6.000000e+00  2.900000e+01             0.000000  12345.000000   \n",
       "25%    1.159462e+07  1.224305e+07             1.000000  92101.000000   \n",
       "50%    1.859936e+07  3.869078e+07             2.000000  92107.000000   \n",
       "75%    2.403747e+07  9.505083e+07             7.000000  92110.000000   \n",
       "max    3.004997e+07  2.251816e+08          2488.000000  92663.000000   \n",
       "\n",
       "           latitude     longitude  accommodates     bathrooms      bedrooms  \\\n",
       "count  11922.000000  11922.000000  11922.000000  11918.000000  11917.000000   \n",
       "mean      32.770292   -117.181854      4.297182      1.480156      1.598641   \n",
       "std        0.065639      0.064335      2.906190      0.880883      1.190178   \n",
       "min       32.532614   -117.281401      1.000000      0.000000      0.000000   \n",
       "25%       32.726506   -117.245726      2.000000      1.000000      1.000000   \n",
       "50%       32.759515   -117.168460      4.000000      1.000000      1.000000   \n",
       "75%       32.799578   -117.141241      6.000000      2.000000      2.000000   \n",
       "max       33.086065   -116.933520     40.000000     27.500000     25.000000   \n",
       "\n",
       "               beds        ...          review_scores_rating  \\\n",
       "count  11914.000000        ...                   9629.000000   \n",
       "mean       2.309048        ...                     95.263994   \n",
       "std        1.831207        ...                      6.874241   \n",
       "min        0.000000        ...                     20.000000   \n",
       "25%        1.000000        ...                     93.000000   \n",
       "50%        2.000000        ...                     97.000000   \n",
       "75%        3.000000        ...                    100.000000   \n",
       "max       23.000000        ...                    100.000000   \n",
       "\n",
       "       review_scores_accuracy  review_scores_cleanliness  \\\n",
       "count             9623.000000                9627.000000   \n",
       "mean                 9.706329                   9.589903   \n",
       "std                  0.696525                   0.794416   \n",
       "min                  2.000000                   2.000000   \n",
       "25%                 10.000000                   9.000000   \n",
       "50%                 10.000000                  10.000000   \n",
       "75%                 10.000000                  10.000000   \n",
       "max                 10.000000                  10.000000   \n",
       "\n",
       "       review_scores_checkin  review_scores_communication  \\\n",
       "count            9612.000000                  9621.000000   \n",
       "mean                9.833437                     9.820809   \n",
       "std                 0.577590                     0.593369   \n",
       "min                 2.000000                     2.000000   \n",
       "25%                10.000000                    10.000000   \n",
       "50%                10.000000                    10.000000   \n",
       "75%                10.000000                    10.000000   \n",
       "max                10.000000                    10.000000   \n",
       "\n",
       "       review_scores_location  review_scores_value       license  \\\n",
       "count             9609.000000          9607.000000  4.800000e+01   \n",
       "mean                 9.751067             9.519933  9.749303e+07   \n",
       "std                  0.579499             0.791108  3.547929e+08   \n",
       "min                  2.000000             2.000000  5.056300e+05   \n",
       "25%                 10.000000             9.000000  6.069060e+05   \n",
       "50%                 10.000000            10.000000  6.239040e+05   \n",
       "75%                 10.000000            10.000000  6.268865e+05   \n",
       "max                 10.000000            10.000000  2.011643e+09   \n",
       "\n",
       "       calculated_host_listings_count  reviews_per_month  \n",
       "count                     11922.00000        9759.000000  \n",
       "mean                         10.32612           1.935757  \n",
       "std                          26.20795           2.056274  \n",
       "min                           1.00000           0.010000  \n",
       "25%                           1.00000           0.360000  \n",
       "50%                           2.00000           1.140000  \n",
       "75%                           5.00000           2.950000  \n",
       "max                         161.00000          18.950000  \n",
       "\n",
       "[8 rows x 29 columns]"
      ]
     },
     "execution_count": 182,
     "metadata": {},
     "output_type": "execute_result"
    }
   ],
   "source": [
    "listings.describe()"
   ]
  },
  {
   "cell_type": "markdown",
   "metadata": {},
   "source": [
    "#####  Find Null values in the dataset"
   ]
  },
  {
   "cell_type": "code",
   "execution_count": 183,
   "metadata": {},
   "outputs": [
    {
     "data": {
      "text/plain": [
       "id                                      0\n",
       "listing_url                             0\n",
       "last_scraped                            0\n",
       "name                                    2\n",
       "summary                               413\n",
       "space                                3160\n",
       "description                           153\n",
       "neighborhood_overview                4329\n",
       "notes                                5652\n",
       "transit                              4842\n",
       "access                               4366\n",
       "interaction                          4601\n",
       "house_rules                          3462\n",
       "picture_url                             0\n",
       "host_id                                 0\n",
       "host_url                                0\n",
       "host_name                               6\n",
       "host_since                              6\n",
       "host_location                          56\n",
       "host_about                           3976\n",
       "host_response_time                   4013\n",
       "host_response_rate                   4013\n",
       "host_is_superhost                       6\n",
       "host_thumbnail_url                      6\n",
       "host_picture_url                        6\n",
       "host_neighbourhood                   2204\n",
       "host_listings_count                     6\n",
       "host_verifications                      0\n",
       "host_has_profile_pic                    6\n",
       "host_identity_verified                  6\n",
       "                                    ...  \n",
       "security_deposit                     2935\n",
       "cleaning_fee                         1691\n",
       "guests_included                         0\n",
       "extra_people                            0\n",
       "minimum_nights                          0\n",
       "maximum_nights                          0\n",
       "calendar_updated                        0\n",
       "availability_30                         0\n",
       "availability_60                         0\n",
       "availability_90                         0\n",
       "availability_365                        0\n",
       "calendar_last_scraped                   0\n",
       "number_of_reviews                       0\n",
       "first_review                         2163\n",
       "last_review                          2160\n",
       "review_scores_rating                 2293\n",
       "review_scores_accuracy               2299\n",
       "review_scores_cleanliness            2295\n",
       "review_scores_checkin                2310\n",
       "review_scores_communication          2301\n",
       "review_scores_location               2313\n",
       "review_scores_value                  2315\n",
       "license                             11874\n",
       "jurisdiction_names                    507\n",
       "instant_bookable                        0\n",
       "cancellation_policy                     0\n",
       "require_guest_profile_picture           0\n",
       "require_guest_phone_verification        0\n",
       "calculated_host_listings_count          0\n",
       "reviews_per_month                    2163\n",
       "Length: 85, dtype: int64"
      ]
     },
     "execution_count": 183,
     "metadata": {},
     "output_type": "execute_result"
    }
   ],
   "source": [
    "listings.isnull().sum()"
   ]
  },
  {
   "cell_type": "markdown",
   "metadata": {},
   "source": [
    "##### Dropping the columns that has more than 90% null values"
   ]
  },
  {
   "cell_type": "code",
   "execution_count": 184,
   "metadata": {},
   "outputs": [
    {
     "name": "stdout",
     "output_type": "stream",
     "text": [
      "Number of  columns to be dropped:  4\n",
      "['square_feet', 'weekly_price', 'monthly_price', 'license']\n"
     ]
    }
   ],
   "source": [
    "drop_cols=[]\n",
    "for cols in listings.columns:\n",
    "    if listings[cols].isnull().sum() >10000:\n",
    "        drop_cols.append(cols)\n",
    "print(\"Number of  columns to be dropped: \", len(drop_cols))\n",
    "print(drop_cols)\n",
    "listings.drop(drop_cols,axis=1, inplace = True)"
   ]
  },
  {
   "cell_type": "code",
   "execution_count": 185,
   "metadata": {},
   "outputs": [],
   "source": [
    "listings.drop(columns=['last_scraped'],inplace= True)"
   ]
  },
  {
   "cell_type": "markdown",
   "metadata": {},
   "source": [
    "Replace the $ dollar symbol in price"
   ]
  },
  {
   "cell_type": "code",
   "execution_count": 186,
   "metadata": {},
   "outputs": [],
   "source": [
    "listings['price'] = listings['price'].replace('[\\$,]','',regex=True).astype(float)"
   ]
  },
  {
   "cell_type": "code",
   "execution_count": 187,
   "metadata": {},
   "outputs": [
    {
     "data": {
      "text/html": [
       "<div>\n",
       "<style scoped>\n",
       "    .dataframe tbody tr th:only-of-type {\n",
       "        vertical-align: middle;\n",
       "    }\n",
       "\n",
       "    .dataframe tbody tr th {\n",
       "        vertical-align: top;\n",
       "    }\n",
       "\n",
       "    .dataframe thead th {\n",
       "        text-align: right;\n",
       "    }\n",
       "</style>\n",
       "<table border=\"1\" class=\"dataframe\">\n",
       "  <thead>\n",
       "    <tr style=\"text-align: right;\">\n",
       "      <th></th>\n",
       "      <th>id</th>\n",
       "      <th>host_id</th>\n",
       "      <th>neighbourhood_group</th>\n",
       "      <th>latitude</th>\n",
       "      <th>longitude</th>\n",
       "      <th>price</th>\n",
       "      <th>minimum_nights</th>\n",
       "      <th>number_of_reviews</th>\n",
       "      <th>reviews_per_month</th>\n",
       "      <th>calculated_host_listings_count</th>\n",
       "      <th>availability_365</th>\n",
       "    </tr>\n",
       "  </thead>\n",
       "  <tbody>\n",
       "    <tr>\n",
       "      <th>count</th>\n",
       "      <td>1.192200e+04</td>\n",
       "      <td>1.192200e+04</td>\n",
       "      <td>0.0</td>\n",
       "      <td>11922.000000</td>\n",
       "      <td>11922.000000</td>\n",
       "      <td>11922.000000</td>\n",
       "      <td>11922.000000</td>\n",
       "      <td>11922.000000</td>\n",
       "      <td>9759.000000</td>\n",
       "      <td>11922.00000</td>\n",
       "      <td>11922.000000</td>\n",
       "    </tr>\n",
       "    <tr>\n",
       "      <th>mean</th>\n",
       "      <td>1.728569e+07</td>\n",
       "      <td>6.085778e+07</td>\n",
       "      <td>NaN</td>\n",
       "      <td>32.770292</td>\n",
       "      <td>-117.181854</td>\n",
       "      <td>212.707851</td>\n",
       "      <td>4.653162</td>\n",
       "      <td>28.900436</td>\n",
       "      <td>1.935757</td>\n",
       "      <td>10.32612</td>\n",
       "      <td>152.486412</td>\n",
       "    </tr>\n",
       "    <tr>\n",
       "      <th>std</th>\n",
       "      <td>8.205400e+06</td>\n",
       "      <td>5.850494e+07</td>\n",
       "      <td>NaN</td>\n",
       "      <td>0.065639</td>\n",
       "      <td>0.064335</td>\n",
       "      <td>306.991755</td>\n",
       "      <td>14.482572</td>\n",
       "      <td>51.470547</td>\n",
       "      <td>2.056274</td>\n",
       "      <td>26.20795</td>\n",
       "      <td>131.039167</td>\n",
       "    </tr>\n",
       "    <tr>\n",
       "      <th>min</th>\n",
       "      <td>6.000000e+00</td>\n",
       "      <td>2.900000e+01</td>\n",
       "      <td>NaN</td>\n",
       "      <td>32.532614</td>\n",
       "      <td>-117.281401</td>\n",
       "      <td>0.000000</td>\n",
       "      <td>1.000000</td>\n",
       "      <td>0.000000</td>\n",
       "      <td>0.010000</td>\n",
       "      <td>1.00000</td>\n",
       "      <td>0.000000</td>\n",
       "    </tr>\n",
       "    <tr>\n",
       "      <th>25%</th>\n",
       "      <td>1.159462e+07</td>\n",
       "      <td>1.224305e+07</td>\n",
       "      <td>NaN</td>\n",
       "      <td>32.726506</td>\n",
       "      <td>-117.245726</td>\n",
       "      <td>80.000000</td>\n",
       "      <td>1.000000</td>\n",
       "      <td>1.000000</td>\n",
       "      <td>0.360000</td>\n",
       "      <td>1.00000</td>\n",
       "      <td>22.000000</td>\n",
       "    </tr>\n",
       "    <tr>\n",
       "      <th>50%</th>\n",
       "      <td>1.859936e+07</td>\n",
       "      <td>3.869078e+07</td>\n",
       "      <td>NaN</td>\n",
       "      <td>32.759515</td>\n",
       "      <td>-117.168460</td>\n",
       "      <td>130.000000</td>\n",
       "      <td>2.000000</td>\n",
       "      <td>8.000000</td>\n",
       "      <td>1.140000</td>\n",
       "      <td>2.00000</td>\n",
       "      <td>132.000000</td>\n",
       "    </tr>\n",
       "    <tr>\n",
       "      <th>75%</th>\n",
       "      <td>2.403747e+07</td>\n",
       "      <td>9.505083e+07</td>\n",
       "      <td>NaN</td>\n",
       "      <td>32.799578</td>\n",
       "      <td>-117.141241</td>\n",
       "      <td>249.000000</td>\n",
       "      <td>3.000000</td>\n",
       "      <td>33.000000</td>\n",
       "      <td>2.950000</td>\n",
       "      <td>5.00000</td>\n",
       "      <td>287.000000</td>\n",
       "    </tr>\n",
       "    <tr>\n",
       "      <th>max</th>\n",
       "      <td>3.004997e+07</td>\n",
       "      <td>2.251816e+08</td>\n",
       "      <td>NaN</td>\n",
       "      <td>33.086065</td>\n",
       "      <td>-116.933520</td>\n",
       "      <td>10000.000000</td>\n",
       "      <td>500.000000</td>\n",
       "      <td>686.000000</td>\n",
       "      <td>18.950000</td>\n",
       "      <td>161.00000</td>\n",
       "      <td>365.000000</td>\n",
       "    </tr>\n",
       "  </tbody>\n",
       "</table>\n",
       "</div>"
      ],
      "text/plain": [
       "                 id       host_id  neighbourhood_group      latitude  \\\n",
       "count  1.192200e+04  1.192200e+04                  0.0  11922.000000   \n",
       "mean   1.728569e+07  6.085778e+07                  NaN     32.770292   \n",
       "std    8.205400e+06  5.850494e+07                  NaN      0.065639   \n",
       "min    6.000000e+00  2.900000e+01                  NaN     32.532614   \n",
       "25%    1.159462e+07  1.224305e+07                  NaN     32.726506   \n",
       "50%    1.859936e+07  3.869078e+07                  NaN     32.759515   \n",
       "75%    2.403747e+07  9.505083e+07                  NaN     32.799578   \n",
       "max    3.004997e+07  2.251816e+08                  NaN     33.086065   \n",
       "\n",
       "          longitude         price  minimum_nights  number_of_reviews  \\\n",
       "count  11922.000000  11922.000000    11922.000000       11922.000000   \n",
       "mean    -117.181854    212.707851        4.653162          28.900436   \n",
       "std        0.064335    306.991755       14.482572          51.470547   \n",
       "min     -117.281401      0.000000        1.000000           0.000000   \n",
       "25%     -117.245726     80.000000        1.000000           1.000000   \n",
       "50%     -117.168460    130.000000        2.000000           8.000000   \n",
       "75%     -117.141241    249.000000        3.000000          33.000000   \n",
       "max     -116.933520  10000.000000      500.000000         686.000000   \n",
       "\n",
       "       reviews_per_month  calculated_host_listings_count  availability_365  \n",
       "count        9759.000000                     11922.00000      11922.000000  \n",
       "mean            1.935757                        10.32612        152.486412  \n",
       "std             2.056274                        26.20795        131.039167  \n",
       "min             0.010000                         1.00000          0.000000  \n",
       "25%             0.360000                         1.00000         22.000000  \n",
       "50%             1.140000                         2.00000        132.000000  \n",
       "75%             2.950000                         5.00000        287.000000  \n",
       "max            18.950000                       161.00000        365.000000  "
      ]
     },
     "execution_count": 187,
     "metadata": {},
     "output_type": "execute_result"
    }
   ],
   "source": [
    "listings_brief.describe()"
   ]
  },
  {
   "cell_type": "code",
   "execution_count": 188,
   "metadata": {},
   "outputs": [
    {
     "data": {
      "text/plain": [
       "id                                    0\n",
       "name                                  2\n",
       "host_id                               0\n",
       "host_name                             6\n",
       "neighbourhood_group               11922\n",
       "neighbourhood                         0\n",
       "latitude                              0\n",
       "longitude                             0\n",
       "room_type                             0\n",
       "price                                 0\n",
       "minimum_nights                        0\n",
       "number_of_reviews                     0\n",
       "last_review                        2160\n",
       "reviews_per_month                  2163\n",
       "calculated_host_listings_count        0\n",
       "availability_365                      0\n",
       "dtype: int64"
      ]
     },
     "execution_count": 188,
     "metadata": {},
     "output_type": "execute_result"
    }
   ],
   "source": [
    "listings_brief.isnull().sum()"
   ]
  },
  {
   "cell_type": "markdown",
   "metadata": {},
   "source": [
    "neighbourhood_group has all null values"
   ]
  },
  {
   "cell_type": "code",
   "execution_count": 189,
   "metadata": {},
   "outputs": [],
   "source": [
    "listings_brief.drop(columns=['neighbourhood_group'],inplace= True)"
   ]
  },
  {
   "cell_type": "code",
   "execution_count": 190,
   "metadata": {},
   "outputs": [
    {
     "data": {
      "text/plain": [
       "(11922, 15)"
      ]
     },
     "execution_count": 190,
     "metadata": {},
     "output_type": "execute_result"
    }
   ],
   "source": [
    "listings_brief.shape"
   ]
  },
  {
   "cell_type": "markdown",
   "metadata": {},
   "source": [
    "Merge Listing and Listings brief"
   ]
  },
  {
   "cell_type": "code",
   "execution_count": 191,
   "metadata": {},
   "outputs": [
    {
     "data": {
      "text/plain": [
       "(5327, 80)"
      ]
     },
     "execution_count": 191,
     "metadata": {},
     "output_type": "execute_result"
    }
   ],
   "source": [
    "listing = pd.merge(listings, listings_brief)\n",
    "listing.shape"
   ]
  },
  {
   "cell_type": "code",
   "execution_count": 192,
   "metadata": {},
   "outputs": [
    {
     "data": {
      "text/html": [
       "<div>\n",
       "<style scoped>\n",
       "    .dataframe tbody tr th:only-of-type {\n",
       "        vertical-align: middle;\n",
       "    }\n",
       "\n",
       "    .dataframe tbody tr th {\n",
       "        vertical-align: top;\n",
       "    }\n",
       "\n",
       "    .dataframe thead th {\n",
       "        text-align: right;\n",
       "    }\n",
       "</style>\n",
       "<table border=\"1\" class=\"dataframe\">\n",
       "  <thead>\n",
       "    <tr style=\"text-align: right;\">\n",
       "      <th></th>\n",
       "      <th>id</th>\n",
       "      <th>listing_url</th>\n",
       "      <th>name</th>\n",
       "      <th>summary</th>\n",
       "      <th>space</th>\n",
       "      <th>description</th>\n",
       "      <th>neighborhood_overview</th>\n",
       "      <th>notes</th>\n",
       "      <th>transit</th>\n",
       "      <th>access</th>\n",
       "      <th>...</th>\n",
       "      <th>review_scores_communication</th>\n",
       "      <th>review_scores_location</th>\n",
       "      <th>review_scores_value</th>\n",
       "      <th>jurisdiction_names</th>\n",
       "      <th>instant_bookable</th>\n",
       "      <th>cancellation_policy</th>\n",
       "      <th>require_guest_profile_picture</th>\n",
       "      <th>require_guest_phone_verification</th>\n",
       "      <th>calculated_host_listings_count</th>\n",
       "      <th>reviews_per_month</th>\n",
       "    </tr>\n",
       "  </thead>\n",
       "  <tbody>\n",
       "    <tr>\n",
       "      <th>0</th>\n",
       "      <td>54001</td>\n",
       "      <td>https://www.airbnb.com/rooms/54001</td>\n",
       "      <td>La Jolla Peaceful: Sitting Room, Breakfast</td>\n",
       "      <td>NaN</td>\n",
       "      <td>The Peaceful is  one of two bedrooms in the de...</td>\n",
       "      <td>The Peaceful is  one of two bedrooms in the de...</td>\n",
       "      <td>Tranquility, stately trees, meditative, zen-fu...</td>\n",
       "      <td>Also on Airbnb and available at the same prope...</td>\n",
       "      <td>If you are debating between renting a car or '...</td>\n",
       "      <td>All common areas.</td>\n",
       "      <td>...</td>\n",
       "      <td>10.0</td>\n",
       "      <td>10.0</td>\n",
       "      <td>10.0</td>\n",
       "      <td>{\"SAN DIEGO\",\" SAN DIEGO TOURISM MARKETING DIS...</td>\n",
       "      <td>f</td>\n",
       "      <td>flexible</td>\n",
       "      <td>f</td>\n",
       "      <td>t</td>\n",
       "      <td>4</td>\n",
       "      <td>1.82</td>\n",
       "    </tr>\n",
       "  </tbody>\n",
       "</table>\n",
       "<p>1 rows × 80 columns</p>\n",
       "</div>"
      ],
      "text/plain": [
       "      id                         listing_url  \\\n",
       "0  54001  https://www.airbnb.com/rooms/54001   \n",
       "\n",
       "                                         name summary  \\\n",
       "0  La Jolla Peaceful: Sitting Room, Breakfast     NaN   \n",
       "\n",
       "                                               space  \\\n",
       "0  The Peaceful is  one of two bedrooms in the de...   \n",
       "\n",
       "                                         description  \\\n",
       "0  The Peaceful is  one of two bedrooms in the de...   \n",
       "\n",
       "                               neighborhood_overview  \\\n",
       "0  Tranquility, stately trees, meditative, zen-fu...   \n",
       "\n",
       "                                               notes  \\\n",
       "0  Also on Airbnb and available at the same prope...   \n",
       "\n",
       "                                             transit             access  \\\n",
       "0  If you are debating between renting a car or '...  All common areas.   \n",
       "\n",
       "         ...        review_scores_communication review_scores_location  \\\n",
       "0        ...                               10.0                   10.0   \n",
       "\n",
       "  review_scores_value                                 jurisdiction_names  \\\n",
       "0                10.0  {\"SAN DIEGO\",\" SAN DIEGO TOURISM MARKETING DIS...   \n",
       "\n",
       "  instant_bookable cancellation_policy require_guest_profile_picture  \\\n",
       "0                f            flexible                             f   \n",
       "\n",
       "  require_guest_phone_verification calculated_host_listings_count  \\\n",
       "0                                t                              4   \n",
       "\n",
       "  reviews_per_month  \n",
       "0              1.82  \n",
       "\n",
       "[1 rows x 80 columns]"
      ]
     },
     "execution_count": 192,
     "metadata": {},
     "output_type": "execute_result"
    }
   ],
   "source": [
    "listing.head(1)"
   ]
  },
  {
   "cell_type": "code",
   "execution_count": 193,
   "metadata": {},
   "outputs": [
    {
     "data": {
      "text/plain": [
       "Index(['id', 'listing_url', 'name', 'summary', 'space', 'description',\n",
       "       'neighborhood_overview', 'notes', 'transit', 'access', 'interaction',\n",
       "       'house_rules', 'picture_url', 'host_id', 'host_url', 'host_name',\n",
       "       'host_since', 'host_location', 'host_about', 'host_response_time',\n",
       "       'host_response_rate', 'host_is_superhost', 'host_thumbnail_url',\n",
       "       'host_picture_url', 'host_neighbourhood', 'host_listings_count',\n",
       "       'host_verifications', 'host_has_profile_pic', 'host_identity_verified',\n",
       "       'street', 'neighbourhood', 'neighbourhood_cleansed', 'city', 'state',\n",
       "       'zipcode', 'market', 'smart_location', 'country_code', 'country',\n",
       "       'latitude', 'longitude', 'is_location_exact', 'property_type',\n",
       "       'room_type', 'accommodates', 'bathrooms', 'bedrooms', 'beds',\n",
       "       'bed_type', 'amenities', 'price', 'security_deposit', 'cleaning_fee',\n",
       "       'guests_included', 'extra_people', 'minimum_nights', 'maximum_nights',\n",
       "       'calendar_updated', 'availability_30', 'availability_60',\n",
       "       'availability_90', 'availability_365', 'calendar_last_scraped',\n",
       "       'number_of_reviews', 'first_review', 'last_review',\n",
       "       'review_scores_rating', 'review_scores_accuracy',\n",
       "       'review_scores_cleanliness', 'review_scores_checkin',\n",
       "       'review_scores_communication', 'review_scores_location',\n",
       "       'review_scores_value', 'jurisdiction_names', 'instant_bookable',\n",
       "       'cancellation_policy', 'require_guest_profile_picture',\n",
       "       'require_guest_phone_verification', 'calculated_host_listings_count',\n",
       "       'reviews_per_month'],\n",
       "      dtype='object')"
      ]
     },
     "execution_count": 193,
     "metadata": {},
     "output_type": "execute_result"
    }
   ],
   "source": [
    "listing.columns"
   ]
  },
  {
   "cell_type": "code",
   "execution_count": 194,
   "metadata": {},
   "outputs": [
    {
     "data": {
      "text/plain": [
       "array(['La Jolla', 'San Diego', 'La Jolla ', 'Del Mar', 'San Diego ',\n",
       "       'Ocean Beach', 'la jolla', 'San diego', 'La jolla',\n",
       "       'Ocean Beach, San Diego', 'LA JOLLA', 'La Jolla, San Diego',\n",
       "       'La Mesa', 'Alpine', 'SAN DIEGO', 'Del Mar Highlands ',\n",
       "       'San Diego, California, US', 'سان دييغو', 'Pacific Beach',\n",
       "       ' La Jolla', 'La Jolla Shores', 'Newport Beach',\n",
       "       'Gas lamp San Diego', 'Pacific Beach ', 'National City', 'CA',\n",
       "       'Solana Beach'], dtype=object)"
      ]
     },
     "execution_count": 194,
     "metadata": {},
     "output_type": "execute_result"
    }
   ],
   "source": [
    "listing.city.unique()"
   ]
  },
  {
   "cell_type": "code",
   "execution_count": 195,
   "metadata": {},
   "outputs": [
    {
     "data": {
      "text/plain": [
       "array(['La Jolla', 'San Diego', 'Del Mar', 'Ocean Beach', 'La Mesa',\n",
       "       'Alpine', 'سان دييغو', 'Pacific Beach', 'Newport Beach',\n",
       "       'Gas lamp San Diego', 'National City', 'CA', 'Solana Beach'],\n",
       "      dtype=object)"
      ]
     },
     "execution_count": 195,
     "metadata": {},
     "output_type": "execute_result"
    }
   ],
   "source": [
    "listing.city.replace( 'La Jolla ', 'La Jolla',inplace = True)\n",
    "listing.city.replace( 'la jolla', 'La Jolla',inplace = True)\n",
    "listing.city.replace( 'La jolla', 'La Jolla',inplace = True)\n",
    "listing.city.replace( 'LA JOLLA', 'La Jolla',inplace = True)\n",
    "listing.city.replace( 'La Jolla, San Diego', 'La Jolla',inplace = True)\n",
    "listing.city.replace( 'La Jolla Shores', 'La Jolla',inplace = True)\n",
    "listing.city.replace( ' La Jolla', 'La Jolla',inplace = True)\n",
    "listing.city.replace( 'SAN DIEGO', 'San Diego',inplace = True)\n",
    "listing.city.replace( 'San Diego, California, US', 'San Diego',inplace = True)\n",
    "listing.city.replace( 'San Diego ', 'San Diego',inplace = True)\n",
    "listing.city.replace( 'San diego ', 'San Diego',inplace = True)\n",
    "listing.city.replace( 'Ocean Beach, San Diego', 'Ocean Beach',inplace = True)\n",
    "listing.city.replace( 'San diego', 'San Diego',inplace = True)\n",
    "listing.city.replace( 'Pacific Beach ', 'Pacific Beach',inplace = True)\n",
    "listing.city.replace( 'Del Mar Highlands ', 'Del Mar',inplace = True)\n",
    "listing.city.unique()"
   ]
  },
  {
   "cell_type": "markdown",
   "metadata": {},
   "source": [
    "## 4. Understand and Preprocess Reviews and  Reviews Brief data <a class=\"anchor\" id=\"section4\">"
   ]
  },
  {
   "cell_type": "code",
   "execution_count": 196,
   "metadata": {},
   "outputs": [
    {
     "data": {
      "text/plain": [
       "(344404, 6)"
      ]
     },
     "execution_count": 196,
     "metadata": {},
     "output_type": "execute_result"
    }
   ],
   "source": [
    "reviews.shape"
   ]
  },
  {
   "cell_type": "code",
   "execution_count": 197,
   "metadata": {},
   "outputs": [
    {
     "data": {
      "text/html": [
       "<div>\n",
       "<style scoped>\n",
       "    .dataframe tbody tr th:only-of-type {\n",
       "        vertical-align: middle;\n",
       "    }\n",
       "\n",
       "    .dataframe tbody tr th {\n",
       "        vertical-align: top;\n",
       "    }\n",
       "\n",
       "    .dataframe thead th {\n",
       "        text-align: right;\n",
       "    }\n",
       "</style>\n",
       "<table border=\"1\" class=\"dataframe\">\n",
       "  <thead>\n",
       "    <tr style=\"text-align: right;\">\n",
       "      <th></th>\n",
       "      <th>listing_id</th>\n",
       "      <th>id</th>\n",
       "      <th>reviewer_id</th>\n",
       "    </tr>\n",
       "  </thead>\n",
       "  <tbody>\n",
       "    <tr>\n",
       "      <th>count</th>\n",
       "      <td>3.444040e+05</td>\n",
       "      <td>3.444040e+05</td>\n",
       "      <td>3.444040e+05</td>\n",
       "    </tr>\n",
       "    <tr>\n",
       "      <th>mean</th>\n",
       "      <td>1.199821e+07</td>\n",
       "      <td>1.928888e+08</td>\n",
       "      <td>7.065055e+07</td>\n",
       "    </tr>\n",
       "    <tr>\n",
       "      <th>std</th>\n",
       "      <td>7.757898e+06</td>\n",
       "      <td>9.756966e+07</td>\n",
       "      <td>5.895252e+07</td>\n",
       "    </tr>\n",
       "    <tr>\n",
       "      <th>min</th>\n",
       "      <td>6.000000e+00</td>\n",
       "      <td>8.000000e+00</td>\n",
       "      <td>2.900000e+01</td>\n",
       "    </tr>\n",
       "    <tr>\n",
       "      <th>25%</th>\n",
       "      <td>5.134312e+06</td>\n",
       "      <td>1.129082e+08</td>\n",
       "      <td>2.087317e+07</td>\n",
       "    </tr>\n",
       "    <tr>\n",
       "      <th>50%</th>\n",
       "      <td>1.234723e+07</td>\n",
       "      <td>2.025160e+08</td>\n",
       "      <td>5.429442e+07</td>\n",
       "    </tr>\n",
       "    <tr>\n",
       "      <th>75%</th>\n",
       "      <td>1.843056e+07</td>\n",
       "      <td>2.767584e+08</td>\n",
       "      <td>1.127640e+08</td>\n",
       "    </tr>\n",
       "    <tr>\n",
       "      <th>max</th>\n",
       "      <td>2.998096e+07</td>\n",
       "      <td>3.502478e+08</td>\n",
       "      <td>2.258349e+08</td>\n",
       "    </tr>\n",
       "  </tbody>\n",
       "</table>\n",
       "</div>"
      ],
      "text/plain": [
       "         listing_id            id   reviewer_id\n",
       "count  3.444040e+05  3.444040e+05  3.444040e+05\n",
       "mean   1.199821e+07  1.928888e+08  7.065055e+07\n",
       "std    7.757898e+06  9.756966e+07  5.895252e+07\n",
       "min    6.000000e+00  8.000000e+00  2.900000e+01\n",
       "25%    5.134312e+06  1.129082e+08  2.087317e+07\n",
       "50%    1.234723e+07  2.025160e+08  5.429442e+07\n",
       "75%    1.843056e+07  2.767584e+08  1.127640e+08\n",
       "max    2.998096e+07  3.502478e+08  2.258349e+08"
      ]
     },
     "execution_count": 197,
     "metadata": {},
     "output_type": "execute_result"
    }
   ],
   "source": [
    "reviews.describe()"
   ]
  },
  {
   "cell_type": "code",
   "execution_count": 198,
   "metadata": {},
   "outputs": [
    {
     "data": {
      "text/plain": [
       "listing_id         0\n",
       "id                 0\n",
       "date               0\n",
       "reviewer_id        0\n",
       "reviewer_name      1\n",
       "comments         417\n",
       "dtype: int64"
      ]
     },
     "execution_count": 198,
     "metadata": {},
     "output_type": "execute_result"
    }
   ],
   "source": [
    "reviews.isnull().sum()"
   ]
  },
  {
   "cell_type": "code",
   "execution_count": 199,
   "metadata": {},
   "outputs": [
    {
     "data": {
      "text/plain": [
       "(344404, 2)"
      ]
     },
     "execution_count": 199,
     "metadata": {},
     "output_type": "execute_result"
    }
   ],
   "source": [
    "reviews_brief.shape"
   ]
  },
  {
   "cell_type": "code",
   "execution_count": 200,
   "metadata": {},
   "outputs": [
    {
     "data": {
      "text/plain": [
       "listing_id    0\n",
       "date          0\n",
       "dtype: int64"
      ]
     },
     "execution_count": 200,
     "metadata": {},
     "output_type": "execute_result"
    }
   ],
   "source": [
    "reviews_brief.isnull().sum()"
   ]
  },
  {
   "cell_type": "markdown",
   "metadata": {},
   "source": [
    "Reviews brief is redundant of reviews so ignoring the data"
   ]
  },
  {
   "cell_type": "markdown",
   "metadata": {},
   "source": [
    "## 5. Understand and Preprocess Calendar data <a class=\"anchor\" id=\"section5\">"
   ]
  },
  {
   "cell_type": "code",
   "execution_count": 201,
   "metadata": {},
   "outputs": [
    {
     "data": {
      "text/plain": [
       "(4351530, 4)"
      ]
     },
     "execution_count": 201,
     "metadata": {},
     "output_type": "execute_result"
    }
   ],
   "source": [
    "calendar.shape"
   ]
  },
  {
   "cell_type": "code",
   "execution_count": 202,
   "metadata": {},
   "outputs": [
    {
     "data": {
      "text/plain": [
       "listing_id          0\n",
       "date                0\n",
       "available           0\n",
       "price         2533587\n",
       "dtype: int64"
      ]
     },
     "execution_count": 202,
     "metadata": {},
     "output_type": "execute_result"
    }
   ],
   "source": [
    "calendar.isnull().sum()"
   ]
  },
  {
   "cell_type": "markdown",
   "metadata": {},
   "source": [
    "Price having 50% null values"
   ]
  },
  {
   "cell_type": "code",
   "execution_count": 203,
   "metadata": {},
   "outputs": [],
   "source": [
    "calendar['price'] = calendar['price'].replace('[\\$,]','',regex=True).astype(float)"
   ]
  },
  {
   "cell_type": "code",
   "execution_count": 204,
   "metadata": {},
   "outputs": [
    {
     "data": {
      "text/plain": [
       "0    99.0\n",
       "dtype: float64"
      ]
     },
     "execution_count": 204,
     "metadata": {},
     "output_type": "execute_result"
    }
   ],
   "source": [
    "calendar.price.mode()"
   ]
  },
  {
   "cell_type": "markdown",
   "metadata": {},
   "source": [
    "Replacing null values with mode"
   ]
  },
  {
   "cell_type": "code",
   "execution_count": 205,
   "metadata": {},
   "outputs": [],
   "source": [
    "calendar[\"price\"].fillna(calendar[\"price\"].mode()[0], inplace=True)"
   ]
  },
  {
   "cell_type": "code",
   "execution_count": 206,
   "metadata": {},
   "outputs": [
    {
     "data": {
      "text/plain": [
       "listing_id    0\n",
       "date          0\n",
       "available     0\n",
       "price         0\n",
       "dtype: int64"
      ]
     },
     "execution_count": 206,
     "metadata": {},
     "output_type": "execute_result"
    }
   ],
   "source": [
    "calendar.isnull().sum()"
   ]
  },
  {
   "cell_type": "markdown",
   "metadata": {},
   "source": [
    "## 6. Understand and Preprocess Neighbourhoods data <a class=\"anchor\" id=\"section6\">"
   ]
  },
  {
   "cell_type": "code",
   "execution_count": 207,
   "metadata": {},
   "outputs": [
    {
     "data": {
      "text/plain": [
       "(108, 2)"
      ]
     },
     "execution_count": 207,
     "metadata": {},
     "output_type": "execute_result"
    }
   ],
   "source": [
    "neighbourhoods.shape"
   ]
  },
  {
   "cell_type": "code",
   "execution_count": 208,
   "metadata": {},
   "outputs": [
    {
     "data": {
      "text/plain": [
       "neighbourhood_group    108\n",
       "neighbourhood            0\n",
       "dtype: int64"
      ]
     },
     "execution_count": 208,
     "metadata": {},
     "output_type": "execute_result"
    }
   ],
   "source": [
    "neighbourhoods.isnull().sum()"
   ]
  },
  {
   "cell_type": "code",
   "execution_count": 209,
   "metadata": {},
   "outputs": [
    {
     "data": {
      "text/plain": [
       "array([nan])"
      ]
     },
     "execution_count": 209,
     "metadata": {},
     "output_type": "execute_result"
    }
   ],
   "source": [
    "neighbourhoods.neighbourhood_group.unique()"
   ]
  },
  {
   "cell_type": "markdown",
   "metadata": {},
   "source": [
    "Neighbourhoods data has all null value in neighbourhood_group, hence ignoring the data as we cannot deduce much information from it and using __neighbourhood data from listings__           "
   ]
  },
  {
   "cell_type": "markdown",
   "metadata": {},
   "source": [
    "## 7. Insights <a class=\"anchor\" id=\"section7\">"
   ]
  },
  {
   "cell_type": "markdown",
   "metadata": {},
   "source": [
    "### 7.1 Analyse Correlation in the dataset <a class=\"anchor\" id=\"section7.1\">"
   ]
  },
  {
   "cell_type": "code",
   "execution_count": 210,
   "metadata": {},
   "outputs": [
    {
     "data": {
      "text/plain": [
       "<matplotlib.axes._subplots.AxesSubplot at 0xbf87048>"
      ]
     },
     "execution_count": 210,
     "metadata": {},
     "output_type": "execute_result"
    },
    {
     "data": {
      "image/png": "[encoded data removed]",
      "text/plain": [
       "<Figure size 800x550 with 2 Axes>"
      ]
     },
     "metadata": {},
     "output_type": "display_data"
    }
   ],
   "source": [
    "sns.heatmap(listing.corr())"
   ]
  },
  {
   "cell_type": "markdown",
   "metadata": {},
   "source": [
    "There are several metrics that have (not so) strong correlation and Price is correlated with Number of Bedroom, bathroom, Beds, Availability"
   ]
  },
  {
   "cell_type": "markdown",
   "metadata": {},
   "source": [
    "### 7.2 Distribution of Price for listings <a class=\"anchor\" id=\"section7.2\">"
   ]
  },
  {
   "cell_type": "code",
   "execution_count": 211,
   "metadata": {},
   "outputs": [
    {
     "data": {
      "text/plain": [
       "<matplotlib.axes._subplots.AxesSubplot at 0x11f30f28>"
      ]
     },
     "execution_count": 211,
     "metadata": {},
     "output_type": "execute_result"
    },
    {
     "data": {
      "image/png": "[encoded data removed]",
      "text/plain": [
       "<Figure size 800x550 with 1 Axes>"
      ]
     },
     "metadata": {},
     "output_type": "display_data"
    }
   ],
   "source": [
    "sns.distplot(listing[\"price\"],axlabel=\"Distribution of price\")"
   ]
  },
  {
   "cell_type": "code",
   "execution_count": 212,
   "metadata": {},
   "outputs": [
    {
     "data": {
      "text/plain": [
       "222.44659282898442"
      ]
     },
     "execution_count": 212,
     "metadata": {},
     "output_type": "execute_result"
    }
   ],
   "source": [
    "listing.price.mean()"
   ]
  },
  {
   "cell_type": "markdown",
   "metadata": {},
   "source": [
    "Mean price is $222 "
   ]
  },
  {
   "cell_type": "markdown",
   "metadata": {},
   "source": [
    "Distribution of Price is __right Skewed__ with maximum price $10000 "
   ]
  },
  {
   "cell_type": "markdown",
   "metadata": {},
   "source": [
    "### 7.3 Price vs Number of Bathrooms <a class=\"anchor\" id=\"section7.3\">"
   ]
  },
  {
   "cell_type": "code",
   "execution_count": 213,
   "metadata": {},
   "outputs": [
    {
     "data": {
      "text/plain": [
       "<matplotlib.axes._subplots.AxesSubplot at 0x505d3a58>"
      ]
     },
     "execution_count": 213,
     "metadata": {},
     "output_type": "execute_result"
    },
    {
     "data": {
      "image/png": "[encoded data removed]",
      "text/plain": [
       "<Figure size 800x550 with 1 Axes>"
      ]
     },
     "metadata": {},
     "output_type": "display_data"
    }
   ],
   "source": [
    "sns.barplot(x = listing.bathrooms, y = listing.price)"
   ]
  },
  {
   "cell_type": "markdown",
   "metadata": {},
   "source": [
    "More the Number of bathrooms more the price with 6.5, 8, 9.5 bathrooms has highest price"
   ]
  },
  {
   "cell_type": "markdown",
   "metadata": {},
   "source": [
    "### 7.4 Price vs Number of Bedrooms <a class=\"anchor\" id=\"section7.4\">"
   ]
  },
  {
   "cell_type": "code",
   "execution_count": 214,
   "metadata": {},
   "outputs": [
    {
     "data": {
      "text/plain": [
       "<matplotlib.axes._subplots.AxesSubplot at 0x5060acc0>"
      ]
     },
     "execution_count": 214,
     "metadata": {},
     "output_type": "execute_result"
    },
    {
     "data": {
      "image/png": "[encoded data removed]",
      "text/plain": [
       "<Figure size 800x550 with 1 Axes>"
      ]
     },
     "metadata": {},
     "output_type": "display_data"
    }
   ],
   "source": [
    "sns.barplot(x = listing.bedrooms, y = listing.price)"
   ]
  },
  {
   "cell_type": "markdown",
   "metadata": {},
   "source": [
    "Having 7 bedrooms can yeild high profit"
   ]
  },
  {
   "cell_type": "markdown",
   "metadata": {},
   "source": [
    "### 7.5 Price vs Number of Beds <a class=\"anchor\" id=\"section7.5\">"
   ]
  },
  {
   "cell_type": "code",
   "execution_count": 215,
   "metadata": {},
   "outputs": [
    {
     "data": {
      "text/plain": [
       "<matplotlib.axes._subplots.AxesSubplot at 0x55010cf8>"
      ]
     },
     "execution_count": 215,
     "metadata": {},
     "output_type": "execute_result"
    },
    {
     "data": {
      "image/png": "[encoded data removed]",
      "text/plain": [
       "<Figure size 800x550 with 1 Axes>"
      ]
     },
     "metadata": {},
     "output_type": "display_data"
    }
   ],
   "source": [
    "sns.barplot(x = listing.beds, y = listing.price)"
   ]
  },
  {
   "cell_type": "markdown",
   "metadata": {},
   "source": [
    "Listings having 13,14 beds are charged high price"
   ]
  },
  {
   "cell_type": "markdown",
   "metadata": {},
   "source": [
    "### 7.6 Price vs Number of person a listing can accomodate <a class=\"anchor\" id=\"section7.6\">"
   ]
  },
  {
   "cell_type": "code",
   "execution_count": 216,
   "metadata": {},
   "outputs": [
    {
     "data": {
      "text/plain": [
       "<matplotlib.axes._subplots.AxesSubplot at 0x54f56198>"
      ]
     },
     "execution_count": 216,
     "metadata": {},
     "output_type": "execute_result"
    },
    {
     "data": {
      "image/png": "[encoded data removed]",
      "text/plain": [
       "<Figure size 800x550 with 1 Axes>"
      ]
     },
     "metadata": {},
     "output_type": "display_data"
    }
   ],
   "source": [
    "sns.barplot(x = listing.accommodates, y = listing.price)"
   ]
  },
  {
   "cell_type": "markdown",
   "metadata": {},
   "source": [
    "As Number of accomodates increase, price also increase"
   ]
  },
  {
   "cell_type": "markdown",
   "metadata": {},
   "source": [
    "### 7.7 Top 10 neighbourhood places that has good ratings <a class=\"anchor\" id=\"section7.7\">"
   ]
  },
  {
   "cell_type": "code",
   "execution_count": 217,
   "metadata": {},
   "outputs": [
    {
     "data": {
      "text/plain": [
       "<matplotlib.axes._subplots.AxesSubplot at 0x54f4ba58>"
      ]
     },
     "execution_count": 217,
     "metadata": {},
     "output_type": "execute_result"
    },
    {
     "data": {
      "image/png": "[encoded data removed]",
      "text/plain": [
       "<Figure size 800x550 with 1 Axes>"
      ]
     },
     "metadata": {},
     "output_type": "display_data"
    }
   ],
   "source": [
    "listing.groupby(\"neighbourhood\")[\"review_scores_rating\"].sum().sort_values(ascending=False).head(10).plot(kind=\"bar\")"
   ]
  },
  {
   "cell_type": "markdown",
   "metadata": {},
   "source": [
    "### 7.8 How does ratings influence price  ? <a class=\"anchor\" id=\"section7.8\">"
   ]
  },
  {
   "cell_type": "code",
   "execution_count": 218,
   "metadata": {},
   "outputs": [
    {
     "data": {
      "text/plain": [
       "<matplotlib.axes._subplots.AxesSubplot at 0x55857470>"
      ]
     },
     "execution_count": 218,
     "metadata": {},
     "output_type": "execute_result"
    },
    {
     "data": {
      "image/png": "[encoded data removed]",
      "text/plain": [
       "<Figure size 800x550 with 1 Axes>"
      ]
     },
     "metadata": {},
     "output_type": "display_data"
    }
   ],
   "source": [
    "listing.plot.scatter(y='price', x='review_scores_rating')"
   ]
  },
  {
   "cell_type": "markdown",
   "metadata": {},
   "source": [
    "As review rating increases, price gets increase"
   ]
  },
  {
   "cell_type": "markdown",
   "metadata": {},
   "source": [
    "### 7.9 Which City has more price  ? <a class=\"anchor\" id=\"section7.9\">"
   ]
  },
  {
   "cell_type": "code",
   "execution_count": 219,
   "metadata": {},
   "outputs": [
    {
     "data": {
      "text/html": [
       "<div>\n",
       "<style scoped>\n",
       "    .dataframe tbody tr th:only-of-type {\n",
       "        vertical-align: middle;\n",
       "    }\n",
       "\n",
       "    .dataframe tbody tr th {\n",
       "        vertical-align: top;\n",
       "    }\n",
       "\n",
       "    .dataframe thead th {\n",
       "        text-align: right;\n",
       "    }\n",
       "</style>\n",
       "<table border=\"1\" class=\"dataframe\">\n",
       "  <thead>\n",
       "    <tr style=\"text-align: right;\">\n",
       "      <th></th>\n",
       "      <th>city</th>\n",
       "      <th>price</th>\n",
       "    </tr>\n",
       "  </thead>\n",
       "  <tbody>\n",
       "    <tr>\n",
       "      <th>10</th>\n",
       "      <td>San Diego</td>\n",
       "      <td>1003508.0</td>\n",
       "    </tr>\n",
       "    <tr>\n",
       "      <th>4</th>\n",
       "      <td>La Jolla</td>\n",
       "      <td>149662.0</td>\n",
       "    </tr>\n",
       "    <tr>\n",
       "      <th>2</th>\n",
       "      <td>Del Mar</td>\n",
       "      <td>25557.0</td>\n",
       "    </tr>\n",
       "    <tr>\n",
       "      <th>12</th>\n",
       "      <td>سان دييغو</td>\n",
       "      <td>2500.0</td>\n",
       "    </tr>\n",
       "    <tr>\n",
       "      <th>8</th>\n",
       "      <td>Ocean Beach</td>\n",
       "      <td>855.0</td>\n",
       "    </tr>\n",
       "    <tr>\n",
       "      <th>9</th>\n",
       "      <td>Pacific Beach</td>\n",
       "      <td>828.0</td>\n",
       "    </tr>\n",
       "    <tr>\n",
       "      <th>5</th>\n",
       "      <td>La Mesa</td>\n",
       "      <td>758.0</td>\n",
       "    </tr>\n",
       "    <tr>\n",
       "      <th>0</th>\n",
       "      <td>Alpine</td>\n",
       "      <td>462.0</td>\n",
       "    </tr>\n",
       "    <tr>\n",
       "      <th>1</th>\n",
       "      <td>CA</td>\n",
       "      <td>258.0</td>\n",
       "    </tr>\n",
       "    <tr>\n",
       "      <th>7</th>\n",
       "      <td>Newport Beach</td>\n",
       "      <td>221.0</td>\n",
       "    </tr>\n",
       "  </tbody>\n",
       "</table>\n",
       "</div>"
      ],
      "text/plain": [
       "             city      price\n",
       "10      San Diego  1003508.0\n",
       "4        La Jolla   149662.0\n",
       "2         Del Mar    25557.0\n",
       "12      سان دييغو     2500.0\n",
       "8     Ocean Beach      855.0\n",
       "9   Pacific Beach      828.0\n",
       "5         La Mesa      758.0\n",
       "0          Alpine      462.0\n",
       "1              CA      258.0\n",
       "7   Newport Beach      221.0"
      ]
     },
     "execution_count": 219,
     "metadata": {},
     "output_type": "execute_result"
    }
   ],
   "source": [
    "listing.groupby(\"city\")[\"price\"].sum().reset_index().sort_values('price', ascending=False).head(10)"
   ]
  },
  {
   "cell_type": "markdown",
   "metadata": {},
   "source": [
    "### 7.10 Super Host Vs Review Rating <a class=\"anchor\" id=\"section7.10\">"
   ]
  },
  {
   "cell_type": "code",
   "execution_count": 220,
   "metadata": {},
   "outputs": [
    {
     "data": {
      "text/plain": [
       "host_is_superhost\n",
       "f    256954.0\n",
       "t    154503.0\n",
       "Name: review_scores_rating, dtype: float64"
      ]
     },
     "execution_count": 220,
     "metadata": {},
     "output_type": "execute_result"
    }
   ],
   "source": [
    "super_rating=listing.groupby(\"host_is_superhost\")[\"review_scores_rating\"].sum()\n",
    "super_rating"
   ]
  },
  {
   "cell_type": "code",
   "execution_count": 221,
   "metadata": {},
   "outputs": [
    {
     "data": {
      "image/png": "[encoded data removed]",
      "text/plain": [
       "<Figure size 500x300 with 1 Axes>"
      ]
     },
     "metadata": {},
     "output_type": "display_data"
    }
   ],
   "source": [
    "labels=np.array(super_rating.index)\n",
    "sizes = super_rating.values\n",
    "colors = ['gold', 'lightskyblue']\n",
    "\n",
    "# Plot\n",
    "plt.figure(figsize=(5,3))\n",
    "plt.pie(sizes, labels=labels, colors=colors,\n",
    "        autopct='%1.1f%%', shadow=True,startangle=90)\n",
    "\n",
    "plt.title('Rating Vs Super Host')\n",
    "plt.axis('equal')\n",
    "plt.show()"
   ]
  },
  {
   "cell_type": "markdown",
   "metadata": {},
   "source": [
    "Super Host has more rating compared to regular host"
   ]
  },
  {
   "cell_type": "markdown",
   "metadata": {},
   "source": [
    "### 7.11 Property Type vs Price <a class=\"anchor\" id=\"section7.11\">"
   ]
  },
  {
   "cell_type": "code",
   "execution_count": 222,
   "metadata": {},
   "outputs": [
    {
     "data": {
      "text/plain": [
       "array(['House', 'Guesthouse', 'Guest suite', 'Townhouse', 'Apartment',\n",
       "       'Condominium', 'Bungalow', 'Cottage', 'Loft', 'Treehouse',\n",
       "       'Serviced apartment', 'Bed and breakfast', 'Hostel', 'Villa',\n",
       "       'Cabin', 'Camper/RV', 'Other', 'Boutique hotel', 'Tiny house',\n",
       "       'Castle', 'Earth house', 'Tent', 'Resort', 'Igloo', 'Boat',\n",
       "       'Campsite', 'Hotel', 'Aparthotel'], dtype=object)"
      ]
     },
     "execution_count": 222,
     "metadata": {},
     "output_type": "execute_result"
    }
   ],
   "source": [
    "listing.property_type.unique()"
   ]
  },
  {
   "cell_type": "code",
   "execution_count": 223,
   "metadata": {},
   "outputs": [
    {
     "data": {
      "text/html": [
       "<div>\n",
       "<style scoped>\n",
       "    .dataframe tbody tr th:only-of-type {\n",
       "        vertical-align: middle;\n",
       "    }\n",
       "\n",
       "    .dataframe tbody tr th {\n",
       "        vertical-align: top;\n",
       "    }\n",
       "\n",
       "    .dataframe thead th {\n",
       "        text-align: right;\n",
       "    }\n",
       "</style>\n",
       "<table border=\"1\" class=\"dataframe\">\n",
       "  <thead>\n",
       "    <tr style=\"text-align: right;\">\n",
       "      <th></th>\n",
       "      <th>property_type</th>\n",
       "      <th>price</th>\n",
       "    </tr>\n",
       "  </thead>\n",
       "  <tbody>\n",
       "    <tr>\n",
       "      <th>17</th>\n",
       "      <td>House</td>\n",
       "      <td>580320.0</td>\n",
       "    </tr>\n",
       "    <tr>\n",
       "      <th>1</th>\n",
       "      <td>Apartment</td>\n",
       "      <td>251146.0</td>\n",
       "    </tr>\n",
       "    <tr>\n",
       "      <th>10</th>\n",
       "      <td>Condominium</td>\n",
       "      <td>132585.0</td>\n",
       "    </tr>\n",
       "    <tr>\n",
       "      <th>25</th>\n",
       "      <td>Townhouse</td>\n",
       "      <td>58936.0</td>\n",
       "    </tr>\n",
       "    <tr>\n",
       "      <th>27</th>\n",
       "      <td>Villa</td>\n",
       "      <td>38233.0</td>\n",
       "    </tr>\n",
       "  </tbody>\n",
       "</table>\n",
       "</div>"
      ],
      "text/plain": [
       "   property_type     price\n",
       "17         House  580320.0\n",
       "1      Apartment  251146.0\n",
       "10   Condominium  132585.0\n",
       "25     Townhouse   58936.0\n",
       "27         Villa   38233.0"
      ]
     },
     "execution_count": 223,
     "metadata": {},
     "output_type": "execute_result"
    }
   ],
   "source": [
    "listing.groupby(\"property_type\")[\"price\"].sum().reset_index().sort_values('price', ascending=False).head(5)"
   ]
  },
  {
   "cell_type": "markdown",
   "metadata": {},
   "source": [
    "__House __ has more price compared to other type of property"
   ]
  },
  {
   "cell_type": "markdown",
   "metadata": {},
   "source": [
    "### 7.12 Property Type vs Availability in 30 days <a class=\"anchor\" id=\"section7.12\">"
   ]
  },
  {
   "cell_type": "code",
   "execution_count": 224,
   "metadata": {},
   "outputs": [
    {
     "data": {
      "text/html": [
       "<div>\n",
       "<style scoped>\n",
       "    .dataframe tbody tr th:only-of-type {\n",
       "        vertical-align: middle;\n",
       "    }\n",
       "\n",
       "    .dataframe tbody tr th {\n",
       "        vertical-align: top;\n",
       "    }\n",
       "\n",
       "    .dataframe thead th {\n",
       "        text-align: right;\n",
       "    }\n",
       "</style>\n",
       "<table border=\"1\" class=\"dataframe\">\n",
       "  <thead>\n",
       "    <tr style=\"text-align: right;\">\n",
       "      <th></th>\n",
       "      <th>property_type</th>\n",
       "      <th>availability_30</th>\n",
       "    </tr>\n",
       "  </thead>\n",
       "  <tbody>\n",
       "    <tr>\n",
       "      <th>17</th>\n",
       "      <td>House</td>\n",
       "      <td>1936</td>\n",
       "    </tr>\n",
       "    <tr>\n",
       "      <th>1</th>\n",
       "      <td>Apartment</td>\n",
       "      <td>1551</td>\n",
       "    </tr>\n",
       "    <tr>\n",
       "      <th>10</th>\n",
       "      <td>Condominium</td>\n",
       "      <td>649</td>\n",
       "    </tr>\n",
       "    <tr>\n",
       "      <th>25</th>\n",
       "      <td>Townhouse</td>\n",
       "      <td>323</td>\n",
       "    </tr>\n",
       "    <tr>\n",
       "      <th>14</th>\n",
       "      <td>Guesthouse</td>\n",
       "      <td>148</td>\n",
       "    </tr>\n",
       "  </tbody>\n",
       "</table>\n",
       "</div>"
      ],
      "text/plain": [
       "   property_type  availability_30\n",
       "17         House             1936\n",
       "1      Apartment             1551\n",
       "10   Condominium              649\n",
       "25     Townhouse              323\n",
       "14    Guesthouse              148"
      ]
     },
     "execution_count": 224,
     "metadata": {},
     "output_type": "execute_result"
    }
   ],
   "source": [
    "listing.groupby(\"property_type\")[\"availability_30\"].count().reset_index().sort_values('availability_30', ascending=False).head(5)"
   ]
  },
  {
   "cell_type": "markdown",
   "metadata": {},
   "source": [
    "House has more Availability in 30 days"
   ]
  },
  {
   "cell_type": "markdown",
   "metadata": {},
   "source": [
    "### 7.13 Super Host Response Time <a class=\"anchor\" id=\"section7.13\">"
   ]
  },
  {
   "cell_type": "code",
   "execution_count": 225,
   "metadata": {},
   "outputs": [],
   "source": [
    "superhost=listing[listing[\"host_is_superhost\"]==\"t\"]"
   ]
  },
  {
   "cell_type": "code",
   "execution_count": 226,
   "metadata": {},
   "outputs": [
    {
     "data": {
      "text/plain": [
       "host_response_time\n",
       "within a day            41\n",
       "within a few hours     177\n",
       "within an hour        1120\n",
       "Name: id, dtype: int64"
      ]
     },
     "execution_count": 226,
     "metadata": {},
     "output_type": "execute_result"
    }
   ],
   "source": [
    "superhost.groupby(\"host_response_time\")[\"id\"].count()"
   ]
  },
  {
   "cell_type": "markdown",
   "metadata": {},
   "source": [
    "Most of the Response time of superhost is __within Hour__"
   ]
  },
  {
   "cell_type": "markdown",
   "metadata": {},
   "source": [
    "### 7.14 Review Comments Analysis using word cloud <a class=\"anchor\" id=\"section7.14\">"
   ]
  },
  {
   "cell_type": "code",
   "execution_count": 227,
   "metadata": {},
   "outputs": [
    {
     "data": {
      "text/plain": [
       "(500,)"
      ]
     },
     "execution_count": 227,
     "metadata": {},
     "output_type": "execute_result"
    }
   ],
   "source": [
    "review=reviews[\"comments\"].head(500)\n",
    "review.shape"
   ]
  },
  {
   "cell_type": "code",
   "execution_count": 228,
   "metadata": {},
   "outputs": [],
   "source": [
    "from wordcloud import WordCloud, STOPWORDS"
   ]
  },
  {
   "cell_type": "code",
   "execution_count": 229,
   "metadata": {},
   "outputs": [],
   "source": [
    "comment_words = ' '\n",
    "stopwords = set(STOPWORDS) \n",
    "  \n",
    "# iterate through the csv file \n",
    "for val in review: \n",
    "      \n",
    "    # typecaste each val to string \n",
    "    val = str(val) \n",
    "  \n",
    "    # split the value \n",
    "    tokens = val.split() \n",
    "      \n",
    "    # Converts each token into lowercase \n",
    "    for i in range(len(tokens)): \n",
    "        tokens[i] = tokens[i].lower() \n",
    "          \n",
    "    for words in tokens: \n",
    "        comment_words = comment_words + words + ' '\n",
    "  \n",
    "  \n",
    "wordcloud = WordCloud(width = 800, height = 800, \n",
    "                background_color ='white', \n",
    "                stopwords = stopwords, \n",
    "                min_font_size = 10).generate(comment_words) "
   ]
  },
  {
   "cell_type": "code",
   "execution_count": 230,
   "metadata": {},
   "outputs": [
    {
     "data": {
      "image/png": "[encoded data removed]",
      "text/plain": [
       "<Figure size 700x400 with 1 Axes>"
      ]
     },
     "metadata": {},
     "output_type": "display_data"
    }
   ],
   "source": [
    "# plot the WordCloud image                        \n",
    "plt.figure(figsize = (7, 4), facecolor = None) \n",
    "plt.imshow(wordcloud) \n",
    "plt.axis(\"off\") \n",
    "plt.tight_layout(pad = 0) \n",
    "  \n",
    "plt.show()"
   ]
  },
  {
   "cell_type": "markdown",
   "metadata": {},
   "source": [
    "Most of the review comments are __good and postive__"
   ]
  },
  {
   "cell_type": "markdown",
   "metadata": {},
   "source": [
    "### 7.15 Top 10 Reviewer <a class=\"anchor\" id=\"section7.15\">"
   ]
  },
  {
   "cell_type": "code",
   "execution_count": 231,
   "metadata": {},
   "outputs": [
    {
     "data": {
      "text/html": [
       "<div>\n",
       "<style scoped>\n",
       "    .dataframe tbody tr th:only-of-type {\n",
       "        vertical-align: middle;\n",
       "    }\n",
       "\n",
       "    .dataframe tbody tr th {\n",
       "        vertical-align: top;\n",
       "    }\n",
       "\n",
       "    .dataframe thead th {\n",
       "        text-align: right;\n",
       "    }\n",
       "</style>\n",
       "<table border=\"1\" class=\"dataframe\">\n",
       "  <thead>\n",
       "    <tr style=\"text-align: right;\">\n",
       "      <th></th>\n",
       "      <th>reviewer_id</th>\n",
       "      <th>Comment counts</th>\n",
       "    </tr>\n",
       "  </thead>\n",
       "  <tbody>\n",
       "    <tr>\n",
       "      <th>0</th>\n",
       "      <td>64785633</td>\n",
       "      <td>42</td>\n",
       "    </tr>\n",
       "    <tr>\n",
       "      <th>1</th>\n",
       "      <td>23653867</td>\n",
       "      <td>40</td>\n",
       "    </tr>\n",
       "    <tr>\n",
       "      <th>2</th>\n",
       "      <td>169329871</td>\n",
       "      <td>36</td>\n",
       "    </tr>\n",
       "    <tr>\n",
       "      <th>3</th>\n",
       "      <td>139473190</td>\n",
       "      <td>33</td>\n",
       "    </tr>\n",
       "    <tr>\n",
       "      <th>4</th>\n",
       "      <td>1649820</td>\n",
       "      <td>29</td>\n",
       "    </tr>\n",
       "    <tr>\n",
       "      <th>5</th>\n",
       "      <td>118535408</td>\n",
       "      <td>29</td>\n",
       "    </tr>\n",
       "    <tr>\n",
       "      <th>6</th>\n",
       "      <td>4964473</td>\n",
       "      <td>26</td>\n",
       "    </tr>\n",
       "    <tr>\n",
       "      <th>7</th>\n",
       "      <td>30012680</td>\n",
       "      <td>24</td>\n",
       "    </tr>\n",
       "    <tr>\n",
       "      <th>8</th>\n",
       "      <td>157569393</td>\n",
       "      <td>24</td>\n",
       "    </tr>\n",
       "    <tr>\n",
       "      <th>9</th>\n",
       "      <td>85972988</td>\n",
       "      <td>23</td>\n",
       "    </tr>\n",
       "  </tbody>\n",
       "</table>\n",
       "</div>"
      ],
      "text/plain": [
       "   reviewer_id  Comment counts\n",
       "0     64785633              42\n",
       "1     23653867              40\n",
       "2    169329871              36\n",
       "3    139473190              33\n",
       "4      1649820              29\n",
       "5    118535408              29\n",
       "6      4964473              26\n",
       "7     30012680              24\n",
       "8    157569393              24\n",
       "9     85972988              23"
      ]
     },
     "execution_count": 231,
     "metadata": {},
     "output_type": "execute_result"
    }
   ],
   "source": [
    "reviews.groupby(\"reviewer_id\").count().sort_values(by=\"comments\",ascending=False)[\"id\"].head(10).reset_index(name='Comment counts')"
   ]
  }
 ],
 "metadata": {
  "kernelspec": {
   "display_name": "Python 3",
   "language": "python",
   "name": "python3"
  },
  "language_info": {
   "codemirror_mode": {
    "name": "ipython",
    "version": 3
   },
   "file_extension": ".py",
   "mimetype": "text/x-python",
   "name": "python",
   "nbconvert_exporter": "python",
   "pygments_lexer": "ipython3",
   "version": "3.6.5"
  }
 },
 "nbformat": 4,
 "nbformat_minor": 2
}
